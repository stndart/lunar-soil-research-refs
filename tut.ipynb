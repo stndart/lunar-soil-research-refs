{
 "cells": [
  {
   "cell_type": "code",
   "execution_count": 1,
   "metadata": {},
   "outputs": [],
   "source": [
    "# Для сохранение промежуточных результатов\n",
    "import joblib\n",
    "# Для чтения текста из pdf\n",
    "from read_pdf import extract_lines_from_pdf\n",
    "# Для извлечения имён авторов и названий публикаций\n",
    "import dt"
   ]
  },
  {
   "cell_type": "code",
   "execution_count": 2,
   "metadata": {},
   "outputs": [],
   "source": [
    "from random import choice"
   ]
  },
  {
   "cell_type": "code",
   "execution_count": 3,
   "metadata": {},
   "outputs": [],
   "source": [
    "pdf_path = \"lunar_articles_list.pdf\"\n",
    "lines = extract_lines_from_pdf(pdf_path)"
   ]
  },
  {
   "cell_type": "code",
   "execution_count": 4,
   "metadata": {},
   "outputs": [
    {
     "name": "stdout",
     "output_type": "stream",
     "text": [
      "Processed 3819/3845 entries, 26 skipped\n"
     ]
    }
   ],
   "source": [
    "parsed, skipped = dt.parse_lines(lines)\n",
    "print(f'Processed {len(parsed)}/{len(lines)} entries, {len(skipped)} skipped')"
   ]
  },
  {
   "cell_type": "code",
   "execution_count": 5,
   "metadata": {},
   "outputs": [
    {
     "name": "stdout",
     "output_type": "stream",
     "text": [
      "3819 articles have 3096 unique authors, with a number of 0.8 authors per publication\n"
     ]
    }
   ],
   "source": [
    "all_authors = set()\n",
    "for p in parsed:\n",
    "    for a in p[0]:\n",
    "        all_authors.add(a)\n",
    "\n",
    "joblib.dump(all_authors, 'authors.pkl')\n",
    "\n",
    "print(f'{len(parsed)} articles have {len(all_authors)} unique authors, with a number of {len(all_authors) / len(parsed):.1f} authors per publication')"
   ]
  },
  {
   "cell_type": "code",
   "execution_count": 6,
   "metadata": {},
   "outputs": [
    {
     "name": "stdout",
     "output_type": "stream",
     "text": [
      "Merle R.E.\n"
     ]
    }
   ],
   "source": [
    "def first(s: set):\n",
    "    for e in s:\n",
    "        break\n",
    "    return e\n",
    "\n",
    "a1 = first(all_authors)\n",
    "print(a1)"
   ]
  },
  {
   "cell_type": "code",
   "execution_count": null,
   "metadata": {},
   "outputs": [
    {
     "name": "stderr",
     "output_type": "stream",
     "text": [
      " 67%|██████▋   | 2/3 [00:15<00:08,  8.25s/it]"
     ]
    }
   ],
   "source": [
    "from authors_meta.parse_scholarly import *\n",
    "from random import sample\n",
    "\n",
    "all_affiliations = set()\n",
    "for au in tqdm(sample(list(all_authors), 3)):\n",
    "    all_affiliations = all_affiliations.union(fetch_author_data(au))"
   ]
  },
  {
   "cell_type": "code",
   "execution_count": null,
   "metadata": {},
   "outputs": [
    {
     "data": {
      "text/plain": [
       "{'Associate Professor, Sher-e-Bangla Agricultural Univeristy',\n",
       " 'Coalition of Urban and Metropolitan Universities (CUMU)',\n",
       " 'Cornell University',\n",
       " 'Johnson & Johnson',\n",
       " 'Mercer University Law School',\n",
       " 'Principle Scientist, Johnson and Johnson',\n",
       " 'Professor of Education, Harvard University',\n",
       " 'Professor of Genetics and plant breeding, Sher-e-Bangla Agricultural University',\n",
       " 'Research Member, History of Health and Social Justice Research Group, University of Saskatchewan,',\n",
       " 'Research Scientist at Johnson & Johnson | PhD from Chester F. Carlson Center for Imaging Science',\n",
       " 'SMB Consulting',\n",
       " 'University of Arizona',\n",
       " 'Unknown affiliation'}"
      ]
     },
     "execution_count": 11,
     "metadata": {},
     "output_type": "execute_result"
    }
   ],
   "source": [
    "all_unis = set()\n",
    "\n",
    "for aff in all_affiliations:\n",
    "    uni = aff.Uni\n",
    "    all_unis.add(uni)\n",
    "\n",
    "all_unis"
   ]
  },
  {
   "cell_type": "code",
   "execution_count": null,
   "metadata": {},
   "outputs": [],
   "source": []
  }
 ],
 "metadata": {
  "kernelspec": {
   "display_name": "Python 3",
   "language": "python",
   "name": "python3"
  },
  "language_info": {
   "codemirror_mode": {
    "name": "ipython",
    "version": 3
   },
   "file_extension": ".py",
   "mimetype": "text/x-python",
   "name": "python",
   "nbconvert_exporter": "python",
   "pygments_lexer": "ipython3",
   "version": "3.11.8"
  }
 },
 "nbformat": 4,
 "nbformat_minor": 2
}
