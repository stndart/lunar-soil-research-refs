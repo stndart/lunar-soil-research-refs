{
 "cells": [
  {
   "cell_type": "code",
   "execution_count": 1,
   "metadata": {},
   "outputs": [],
   "source": [
    "# Для считывания PDF\n",
    "import PyPDF2\n",
    "# Для анализа структуры PDF и извлечения текста\n",
    "from pdfminer.high_level import extract_pages, extract_text\n",
    "from pdfminer.layout import LTTextContainer, LTChar, LTRect, LTFigure\n",
    "# Для извлечения текста из таблиц в PDF\n",
    "import pdfplumber\n",
    "# Для извлечения изображений из PDF\n",
    "from PIL import Image\n",
    "from pdf2image import convert_from_path\n",
    "# Для удаления дополнительно созданных файлов\n",
    "import os\n",
    "# Для сохранение промежуточных результатов\n",
    "import joblib"
   ]
  },
  {
   "cell_type": "code",
   "execution_count": 2,
   "metadata": {},
   "outputs": [],
   "source": [
    "# Создаём функцию для извлечения текста\n",
    "\n",
    "def text_extraction(element):\n",
    "    # Извлекаем текст из вложенного текстового элемента\n",
    "    line_text = element.get_text()\n",
    "    \n",
    "    # Находим форматы текста\n",
    "    # Инициализируем список со всеми форматами, встречающимися в строке текста\n",
    "    line_formats = []\n",
    "    for text_line in element:\n",
    "        if isinstance(text_line, LTTextContainer):\n",
    "            # Итеративно обходим каждый символ в строке текста\n",
    "            for character in text_line:\n",
    "                if isinstance(character, LTChar):\n",
    "                    # Добавляем к символу название шрифта\n",
    "                    line_formats.append(character.fontname)\n",
    "                    # Добавляем к символу размер шрифта\n",
    "                    line_formats.append(character.size)\n",
    "    # Находим уникальные размеры и названия шрифтов в строке\n",
    "    format_per_line = list(set(line_formats))\n",
    "    \n",
    "    # Возвращаем кортеж с текстом в каждой строке вместе с его форматом\n",
    "    return (line_text, format_per_line)"
   ]
  },
  {
   "cell_type": "code",
   "execution_count": 3,
   "metadata": {},
   "outputs": [],
   "source": [
    "pdf_path = \"lunar_articles_list.pdf\"\n",
    "\n",
    "# создаём объект файла PDF\n",
    "pdfFileObj = open(pdf_path, 'rb')\n",
    "# создаём объект считывателя PDF\n",
    "pdfReaded = PyPDF2.PdfReader(pdfFileObj)"
   ]
  },
  {
   "cell_type": "code",
   "execution_count": 4,
   "metadata": {},
   "outputs": [],
   "source": [
    "# Создаём словарь для извлечения текста из каждого изображения\n",
    "text_per_page = {}\n",
    "# Извлекаем страницы из PDF\n",
    "for pagenum, page in enumerate(extract_pages(pdf_path)):\n",
    "    \n",
    "    # Инициализируем переменные, необходимые для извлечения текста со страницы\n",
    "    pageObj = pdfReaded.pages[pagenum]\n",
    "    page_text = []\n",
    "    line_format = []\n",
    "    text_from_images = []\n",
    "    text_from_tables = []\n",
    "    page_content = []\n",
    "    # Инициализируем количество исследованных таблиц\n",
    "    table_num = 0\n",
    "    first_element= True\n",
    "    table_extraction_flag= False\n",
    "    # Открываем файл pdf\n",
    "    pdf = pdfplumber.open(pdf_path)\n",
    "    # Находим исследуемую страницу\n",
    "    page_tables = pdf.pages[pagenum]\n",
    "    # Находим количество таблиц на странице\n",
    "    tables = page_tables.find_tables()\n",
    "\n",
    "\n",
    "    # Находим все элементы\n",
    "    page_elements = [(element.y1, element) for element in page._objs]\n",
    "    # Сортируем все элементы по порядку нахождения на странице\n",
    "    page_elements.sort(key=lambda a: a[0], reverse=True)\n",
    "\n",
    "    # Находим элементы, составляющие страницу\n",
    "    for i,component in enumerate(page_elements):\n",
    "        # Извлекаем положение верхнего края элемента в PDF\n",
    "        pos= component[0]\n",
    "        # Извлекаем элемент структуры страницы\n",
    "        element = component[1]\n",
    "        \n",
    "        # Проверяем, является ли элемент текстовым\n",
    "        if isinstance(element, LTTextContainer):\n",
    "            # Проверяем, находится ли текст в таблице\n",
    "            if table_extraction_flag == False:\n",
    "                # Используем функцию извлечения текста и формата для каждого текстового элемента\n",
    "                (line_text, format_per_line) = text_extraction(element)\n",
    "                # Добавляем текст каждой строки к тексту страницы\n",
    "                page_text.append(line_text)\n",
    "                # Добавляем формат каждой строки, содержащей текст\n",
    "                line_format.append(format_per_line)\n",
    "                page_content.append(line_text)\n",
    "            else:\n",
    "                # Пропускаем текст, находящийся в таблице\n",
    "                pass\n",
    "\n",
    "    # Создаём ключ для словаря\n",
    "    dctkey = 'Page_'+str(pagenum)\n",
    "    # Добавляем список списков как значение ключа страницы\n",
    "    text_per_page[dctkey]= [page_text, line_format, text_from_images,text_from_tables, page_content]\n"
   ]
  },
  {
   "cell_type": "code",
   "execution_count": 5,
   "metadata": {},
   "outputs": [],
   "source": [
    "# Закрываем объект файла pdf\n",
    "pdfFileObj.close()\n",
    "\n",
    "# Удаляем созданные дополнительные файлы\n",
    "# os.remove('cropped_image.pdf')\n",
    "# os.remove('PDF_image.png')\n",
    "\n",
    "# Удаляем содержимое страницы\n",
    "result = ''.join(text_per_page['Page_0'][4])\n",
    "# print(result)"
   ]
  },
  {
   "cell_type": "code",
   "execution_count": 6,
   "metadata": {},
   "outputs": [],
   "source": [
    "page_keys = list(text_per_page.keys())\n",
    "pages = [text_per_page[pgkey][0] for pgkey in page_keys]"
   ]
  },
  {
   "cell_type": "code",
   "execution_count": 7,
   "metadata": {},
   "outputs": [],
   "source": [
    "lines = []\n",
    "for page in pages:\n",
    "    for line in page:\n",
    "        if line.strip() == '':\n",
    "            continue\n",
    "        lines.append(line.strip())\n",
    "lines = lines[2:]"
   ]
  },
  {
   "cell_type": "code",
   "execution_count": 8,
   "metadata": {},
   "outputs": [],
   "source": [
    "from dataclasses import dataclass\n",
    "\n",
    "@dataclass\n",
    "class Author:\n",
    "    Name: str\n",
    "    Initials: str\n",
    "\n",
    "    def __hash__(self):\n",
    "        return (self.Name + self.Initials).__hash__()\n",
    "    \n",
    "    def __repr__(self):\n",
    "        return self.Name + ' ' + self.Initials\n",
    "\n",
    "@dataclass\n",
    "class PubYear:\n",
    "    Year: int\n",
    "    Letter: str\n",
    "\n",
    "@dataclass\n",
    "class Affiliation:\n",
    "    Uni: str\n",
    "    Year: int\n",
    "    \n",
    "    def __hash__(self):\n",
    "        return f'{self.Uni} ({self.Year})'.__hash__()\n",
    "    \n",
    "    def __le__(self, other: 'Affiliation'):\n",
    "        if self.Year < other.Year:\n",
    "            return True\n",
    "        if self.Year > other.Year:\n",
    "            return False\n",
    "        return self.Uni < other.Uni"
   ]
  },
  {
   "cell_type": "code",
   "execution_count": 9,
   "metadata": {},
   "outputs": [],
   "source": [
    "import re\n",
    "\n",
    "def parse_line_raw(reference: str):\n",
    "    reference = reference.replace('\\n', '')\n",
    "    \n",
    "    # Pattern to match authors, year, title, and the rest\n",
    "    pattern = r\"^(.*?)(\\(\\d{4}[a-z]?\\))\\s+(.*?)(\\.\\s.*)$\"\n",
    "    match = re.match(pattern, reference)\n",
    "    \n",
    "    if not match:\n",
    "        return None  # Return None if the pattern does not match\n",
    "    \n",
    "    authors = match.group(1).strip()\n",
    "    year = match.group(2).strip(\"()\")\n",
    "    title = match.group(3).strip()\n",
    "    rest = match.group(4).strip()\n",
    "    \n",
    "    return [authors, year, title, rest]\n",
    "\n",
    "def split_authors(authors: str) -> list[Author]:\n",
    "    author_list = []\n",
    "    \n",
    "    # Split the authors by commas and \"and\"\n",
    "    author_entries = re.split(r'\\s*(?:,\\s*|\\s+and\\s+)\\s*', authors)\n",
    "    \n",
    "    for entry in author_entries:\n",
    "        # Split by spaces to separate names and initials\n",
    "        name_parts = entry.strip().split()\n",
    "        \n",
    "        # The last part is likely the last name, others are initials\n",
    "        name = ' '.join(name_parts[:-1])  # First and middle names\n",
    "        initials = name_parts[-1]  # Last part is typically the initials\n",
    "        \n",
    "        author_list.append(Author(Name=name, Initials=initials))\n",
    "    \n",
    "    return author_list\n",
    "\n",
    "def parse_line(line: str) -> tuple[list[Author], PubYear, str, str]:\n",
    "    authors, year, title, rest = parse_line_raw(line)\n",
    "    authors = split_authors(authors)\n",
    "    year = PubYear(Year=int(year[:4]), Letter=year[4:])\n",
    "    return (authors, year, title, rest)"
   ]
  },
  {
   "cell_type": "code",
   "execution_count": 10,
   "metadata": {},
   "outputs": [
    {
     "name": "stdout",
     "output_type": "stream",
     "text": [
      "Processed 3819/3845 entries, 26 skipped\n"
     ]
    }
   ],
   "source": [
    "parsed = []\n",
    "skipped = []\n",
    "for i, ch in enumerate(lines):\n",
    "    ps = parse_line_raw(ch)\n",
    "    if ps is None or len(ps[0]) == 0:\n",
    "        skipped.append((i, ch))\n",
    "    else:\n",
    "        parsed.append(parse_line(ch))\n",
    "\n",
    "print(f'Processed {len(parsed)}/{len(lines)} entries, {len(skipped)} skipped')"
   ]
  },
  {
   "cell_type": "code",
   "execution_count": 11,
   "metadata": {},
   "outputs": [
    {
     "name": "stdout",
     "output_type": "stream",
     "text": [
      "3819 articles have 3096 unique authors, with a number of 0.8 authors per publication\n"
     ]
    }
   ],
   "source": [
    "all_authors = set()\n",
    "for p in parsed:\n",
    "    for a in p[0]:\n",
    "        all_authors.add(a)\n",
    "\n",
    "joblib.dump(all_authors, 'authors.pkl')\n",
    "\n",
    "print(f'{len(parsed)} articles have {len(all_authors)} unique authors, with a number of {len(all_authors) / len(parsed):.1f} authors per publication')"
   ]
  },
  {
   "cell_type": "code",
   "execution_count": 12,
   "metadata": {},
   "outputs": [
    {
     "data": {
      "text/plain": [
       "Taylor H.C."
      ]
     },
     "execution_count": 12,
     "metadata": {},
     "output_type": "execute_result"
    }
   ],
   "source": [
    "a1 = list(all_authors)[0]\n",
    "a1"
   ]
  },
  {
   "cell_type": "code",
   "execution_count": 109,
   "metadata": {},
   "outputs": [
    {
     "name": "stdout",
     "output_type": "stream",
     "text": [
      "{'container_type': 'Author', 'filled': ['basics', 'indices', 'counts', 'coauthors', 'publications', 'public_access'], 'source': <AuthorSource.SEARCH_AUTHOR_SNIPPETS: 'SEARCH_AUTHOR_SNIPPETS'>, 'scholar_id': 'kwbEUvYAAAAJ', 'url_picture': 'https://scholar.google.com/citations?view_op=medium_photo&user=kwbEUvYAAAAJ', 'name': 'Joshua D.M. Shaw', 'affiliation': 'Lecturer in Law at the University of Kent', 'email_domain': '@kent.ac.uk', 'interests': ['human tissue law', 'law and dead bodies', 'legal theory', 'medical law', 'socio-legal studies'], 'citedby': 99, 'organization': 15489720745136061206, 'homepage': 'https://www.kent.ac.uk/law/people/4977/Shaw-Joshua', 'citedby5y': 70, 'hindex': 4, 'hindex5y': 4, 'i10index': 4, 'i10index5y': 3, 'cites_per_year': {2013: 1, 2014: 1, 2015: 5, 2016: 5, 2017: 12, 2018: 5, 2019: 4, 2020: 7, 2021: 6, 2022: 6, 2023: 25, 2024: 16}, 'coauthors': [{'container_type': 'Author', 'filled': [], 'scholar_id': 't09FPNkAAAAJ', 'source': <AuthorSource.CO_AUTHORS_LIST: 'CO_AUTHORS_LIST'>, 'name': 'Douglas Alards-Tomalin', 'affiliation': 'Capilano University'}, {'container_type': 'Author', 'filled': [], 'scholar_id': 'l42Vv2wAAAAJ', 'source': <AuthorSource.CO_AUTHORS_LIST: 'CO_AUTHORS_LIST'>, 'name': 'Alexander C. Walker', 'affiliation': 'Banting Postdoctoral Fellow, Brown University'}, {'container_type': 'Author', 'filled': [], 'scholar_id': 'hz5V2gwAAAAJ', 'source': <AuthorSource.CO_AUTHORS_LIST: 'CO_AUTHORS_LIST'>, 'name': 'Daniel Konikoff', 'affiliation': 'University of Toronto'}], 'publications': [{'container_type': 'Publication', 'source': <PublicationSource.AUTHOR_PUBLICATION_ENTRY: 'AUTHOR_PUBLICATION_ENTRY'>, 'bib': {'title': 'The effects of numerical magnitude, size, and color saturation on perceived interval duration.', 'pub_year': '2014', 'citation': 'Journal of Experimental Psychology: Learning, Memory, and Cognition 40 (2), 555, 2014'}, 'filled': False, 'author_pub_id': 'kwbEUvYAAAAJ:UeHWp8X0CEIC', 'num_citations': 35, 'citedby_url': 'https://scholar.google.com/scholar?oi=bibs&hl=en&cites=7055079143110946340', 'cites_id': ['7055079143110946340']}, {'container_type': 'Publication', 'source': <PublicationSource.AUTHOR_PUBLICATION_ENTRY: 'AUTHOR_PUBLICATION_ENTRY'>, 'bib': {'title': 'Is 9 louder than 1? Audiovisual cross-modal interactions between number magnitude and judged sound loudness', 'pub_year': '2015', 'citation': 'Acta psychologica 160, 95-103, 2015'}, 'filled': False, 'author_pub_id': 'kwbEUvYAAAAJ:qjMakFHDy7sC', 'num_citations': 15, 'citedby_url': 'https://scholar.google.com/scholar?oi=bibs&hl=en&cites=87019867347967468', 'cites_id': ['87019867347967468']}, {'container_type': 'Publication', 'source': <PublicationSource.AUTHOR_PUBLICATION_ENTRY: 'AUTHOR_PUBLICATION_ENTRY'>, 'bib': {'title': 'The Spatio-Legal Production of Bodies Through the Legal Fiction of Death', 'pub_year': '2021', 'citation': 'Law and Critique 32 (1), 69-90, 2021'}, 'filled': False, 'author_pub_id': 'kwbEUvYAAAAJ:u5HHmVD_uO8C', 'num_citations': 14, 'citedby_url': 'https://scholar.google.com/scholar?oi=bibs&hl=en&cites=6475177475053400118', 'cites_id': ['6475177475053400118']}, {'container_type': 'Publication', 'source': <PublicationSource.AUTHOR_PUBLICATION_ENTRY: 'AUTHOR_PUBLICATION_ENTRY'>, 'bib': {'title': 'Confronting Jurisdiction with Antinomian Bodies', 'pub_year': '2024', 'citation': 'Law, Culture and the Humanities 20 (1), 94-119, 2024'}, 'filled': False, 'author_pub_id': 'kwbEUvYAAAAJ:d1gkVwhDpl0C', 'num_citations': 12, 'citedby_url': 'https://scholar.google.com/scholar?oi=bibs&hl=en&cites=3700763411695022584', 'cites_id': ['3700763411695022584']}, {'container_type': 'Publication', 'source': <PublicationSource.AUTHOR_PUBLICATION_ENTRY: 'AUTHOR_PUBLICATION_ENTRY'>, 'bib': {'title': 'A Minor Jurisprudence of Play: Becoming Jurisprudents Through Play in The Majora’s Mask', 'pub_year': '2024', 'citation': 'Law, Video Games, Virtual Realities: Playing Law, 2024'}, 'filled': False, 'author_pub_id': 'kwbEUvYAAAAJ:KlAtU1dfN6UC', 'num_citations': 4, 'citedby_url': 'https://scholar.google.com/scholar?oi=bibs&hl=en&cites=3293398473948334070,16666018639339849057', 'cites_id': ['3293398473948334070', '16666018639339849057']}, {'container_type': 'Publication', 'source': <PublicationSource.AUTHOR_PUBLICATION_ENTRY: 'AUTHOR_PUBLICATION_ENTRY'>, 'bib': {'title': 'Transcarceral lawscapes enacted in moments of Aboriginalisation: a case-study of an Indigenous woman released on urban parole', 'pub_year': '2020', 'citation': 'International Journal of Law in Context 16 (4), 422-442, 2020'}, 'filled': False, 'author_pub_id': 'kwbEUvYAAAAJ:W7OEmFMy1HYC', 'num_citations': 4, 'citedby_url': 'https://scholar.google.com/scholar?oi=bibs&hl=en&cites=12112466000804068810', 'cites_id': ['12112466000804068810']}, {'container_type': 'Publication', 'source': <PublicationSource.AUTHOR_PUBLICATION_ENTRY: 'AUTHOR_PUBLICATION_ENTRY'>, 'bib': {'title': 'Constructing Risk Through Jurisdictional Talk: The Ontario Review Board Process under Part XX.1 of the Criminal Code', 'pub_year': '2023', 'citation': 'Canadian Journal of Law and Society / Revue Canadienne Droit et Société 38 …, 2023'}, 'filled': False, 'author_pub_id': 'kwbEUvYAAAAJ:8k81kl-MbHgC', 'num_citations': 3, 'citedby_url': 'https://scholar.google.com/scholar?oi=bibs&hl=en&cites=6360804254206039340', 'cites_id': ['6360804254206039340']}, {'container_type': 'Publication', 'source': <PublicationSource.AUTHOR_PUBLICATION_ENTRY: 'AUTHOR_PUBLICATION_ENTRY'>, 'bib': {'title': 'Jurisgenerative Tissues: Sociotechnical Imaginaries and the Legal Secretions of 3D Bioprinting', 'pub_year': '2023', 'citation': 'Law and Critique 34, 105-125, 2023'}, 'filled': False, 'author_pub_id': 'kwbEUvYAAAAJ:LkGwnXOMwfcC', 'num_citations': 3, 'citedby_url': 'https://scholar.google.com/scholar?oi=bibs&hl=en&cites=2719733551275254182,6229998355167273086', 'cites_id': ['2719733551275254182', '6229998355167273086']}, {'container_type': 'Publication', 'source': <PublicationSource.AUTHOR_PUBLICATION_ENTRY: 'AUTHOR_PUBLICATION_ENTRY'>, 'bib': {'title': 'Defining death: Law, language, and systems', 'pub_year': '2016', 'citation': 'Dalhousie University, 2016'}, 'filled': False, 'author_pub_id': 'kwbEUvYAAAAJ:2osOgNQ5qMEC', 'num_citations': 3, 'citedby_url': 'https://scholar.google.com/scholar?oi=bibs&hl=en&cites=16387967586537118167', 'cites_id': ['16387967586537118167']}, {'container_type': 'Publication', 'source': <PublicationSource.AUTHOR_PUBLICATION_ENTRY: 'AUTHOR_PUBLICATION_ENTRY'>, 'bib': {'title': 'Documenting the Document: The Forensic Hospital Report and Its Knowledge Moves', 'pub_year': '2024', 'citation': 'Social and Legal Studies 33 (3), 309-327, 2024'}, 'filled': False, 'author_pub_id': 'kwbEUvYAAAAJ:MXK_kJrjxJIC', 'num_citations': 2, 'citedby_url': 'https://scholar.google.com/scholar?oi=bibs&hl=en&cites=495457512428675548', 'cites_id': ['495457512428675548']}, {'container_type': 'Publication', 'source': <PublicationSource.AUTHOR_PUBLICATION_ENTRY: 'AUTHOR_PUBLICATION_ENTRY'>, 'bib': {'title': 'Disciplinary Paternalism and Resistance in Ontario’s Forensic Mental Health System', 'pub_year': '2023', 'citation': 'Critical Criminology 31, 843-858, 2023'}, 'filled': False, 'author_pub_id': 'kwbEUvYAAAAJ:3fE2CSJIrl8C', 'num_citations': 1, 'citedby_url': 'https://scholar.google.com/scholar?oi=bibs&hl=en&cites=11413138898824156015', 'cites_id': ['11413138898824156015']}, {'container_type': 'Publication', 'source': <PublicationSource.AUTHOR_PUBLICATION_ENTRY: 'AUTHOR_PUBLICATION_ENTRY'>, 'bib': {'title': 'Book Review: A Jurisprudence of the Body', 'pub_year': '2022', 'citation': 'Social and Legal Studies 31 (1), 165-169, 2022'}, 'filled': False, 'author_pub_id': 'kwbEUvYAAAAJ:WF5omc3nYNoC', 'num_citations': 1, 'citedby_url': 'https://scholar.google.com/scholar?oi=bibs&hl=en&cites=12049768537379142', 'cites_id': ['12049768537379142']}, {'container_type': 'Publication', 'source': <PublicationSource.AUTHOR_PUBLICATION_ENTRY: 'AUTHOR_PUBLICATION_ENTRY'>, 'bib': {'title': \"The Queer Child Deserves Protection: Bill 18 and the Justifiable Infringement of Denominational Schools' Freedom of Religion\", 'pub_year': '2015', 'citation': 'Man. LJ 38, 331, 2015'}, 'filled': False, 'author_pub_id': 'kwbEUvYAAAAJ:IjCSPb-OGe4C', 'num_citations': 1, 'citedby_url': 'https://scholar.google.com/scholar?oi=bibs&hl=en&cites=11519208568189851413', 'cites_id': ['11519208568189851413']}, {'container_type': 'Publication', 'source': <PublicationSource.AUTHOR_PUBLICATION_ENTRY: 'AUTHOR_PUBLICATION_ENTRY'>, 'bib': {'title': 'De-Recognition of Disability: Canadian Parens Patriae Jurisdiction and Sterilization', 'pub_year': '2015', 'citation': 'Windsor Rev. Legal & Soc. Issues 36, 147, 2015'}, 'filled': False, 'author_pub_id': 'kwbEUvYAAAAJ:u-x6o8ySG0sC', 'num_citations': 1, 'citedby_url': 'https://scholar.google.com/scholar?oi=bibs&hl=en&cites=11028540439120923597', 'cites_id': ['11028540439120923597']}, {'container_type': 'Publication', 'source': <PublicationSource.AUTHOR_PUBLICATION_ENTRY: 'AUTHOR_PUBLICATION_ENTRY'>, 'bib': {'title': 'Public Health Law Through the Life Course: A Case-study on Steroids', 'pub_year': '2025', 'citation': 'Public Health Law and Policy (5th Edition), 2025'}, 'filled': False, 'author_pub_id': 'kwbEUvYAAAAJ:0EnyYjriUFMC', 'num_citations': 0}, {'container_type': 'Publication', 'source': <PublicationSource.AUTHOR_PUBLICATION_ENTRY: 'AUTHOR_PUBLICATION_ENTRY'>, 'bib': {'title': 'The Heteronomy of Flesh: A Minor Jurisprudence of the Use of the Human Dead and Tissues', 'pub_year': '2024', 'citation': 'York University, 2024'}, 'filled': False, 'author_pub_id': 'kwbEUvYAAAAJ:Zph67rFs4hoC', 'num_citations': 0}, {'container_type': 'Publication', 'source': <PublicationSource.AUTHOR_PUBLICATION_ENTRY: 'AUTHOR_PUBLICATION_ENTRY'>, 'bib': {'title': 'Humic Lawscapes', 'pub_year': '2024', 'citation': 'The Routledge Handbook of Law and Death, 93-109, 2024'}, 'filled': False, 'author_pub_id': 'kwbEUvYAAAAJ:5nxA0vEk-isC', 'num_citations': 0}, {'container_type': 'Publication', 'source': <PublicationSource.AUTHOR_PUBLICATION_ENTRY: 'AUTHOR_PUBLICATION_ENTRY'>, 'bib': {'title': 'Law and Gender', 'pub_year': '2023', 'citation': 'Elgar Encyclopedia of Comparative Law (3rd Edition), 399–409, 2023'}, 'filled': False, 'author_pub_id': 'kwbEUvYAAAAJ:Se3iqnhoufwC', 'num_citations': 0}, {'container_type': 'Publication', 'source': <PublicationSource.AUTHOR_PUBLICATION_ENTRY: 'AUTHOR_PUBLICATION_ENTRY'>, 'bib': {'title': 'When Prisoners’ “Right to Die” Goes Online: A Case-Study of Legal and Penal Sensibilities', 'pub_year': '2022', 'citation': 'Canadian Journal of Law and Society / Revue Canadienne Droit et Société 37 …, 2022'}, 'filled': False, 'author_pub_id': 'kwbEUvYAAAAJ:roLk4NBRz8UC', 'num_citations': 0}, {'container_type': 'Publication', 'source': <PublicationSource.AUTHOR_PUBLICATION_ENTRY: 'AUTHOR_PUBLICATION_ENTRY'>, 'bib': {'title': \"'Entangled Bodies: Art, Identity and Intercorporeality': Book Review\", 'pub_year': '2021', 'citation': 'The Polyphony, 2021'}, 'filled': False, 'author_pub_id': 'kwbEUvYAAAAJ:YsMSGLbcyi4C', 'num_citations': 0}, {'container_type': 'Publication', 'source': <PublicationSource.AUTHOR_PUBLICATION_ENTRY: 'AUTHOR_PUBLICATION_ENTRY'>, 'bib': {'title': 'Embodying Punishment: Emotions, Identities, and Lived Experiences in Women’s Prisons, by Anastasia Chamberlen', 'pub_year': '2021', 'citation': 'Osgoode Hall Law Journal 57 (2), 500-509, 2021'}, 'filled': False, 'author_pub_id': 'kwbEUvYAAAAJ:Y0pCki6q_DkC', 'num_citations': 0}, {'container_type': 'Publication', 'source': <PublicationSource.AUTHOR_PUBLICATION_ENTRY: 'AUTHOR_PUBLICATION_ENTRY'>, 'bib': {'title': 'Adelina Iftene, Punished for Aging: Vulnerability, Rights, and Access to Justice in Canadian Penitentiaries', 'pub_year': '2020', 'citation': 'Punishment & Society 22 (4), 563-565, 2020'}, 'filled': False, 'author_pub_id': 'kwbEUvYAAAAJ:zYLM7Y9cAGgC', 'num_citations': 0}, {'container_type': 'Publication', 'source': <PublicationSource.AUTHOR_PUBLICATION_ENTRY: 'AUTHOR_PUBLICATION_ENTRY'>, 'bib': {'title': 'Emily L. Thuma, All Our Trials: Prisons, Policing, and the Feminist Fight to End Violence', 'pub_year': '2020', 'citation': 'Labour 85, 318-320, 2020'}, 'filled': False, 'author_pub_id': 'kwbEUvYAAAAJ:Tyk-4Ss8FVUC', 'num_citations': 0}, {'container_type': 'Publication', 'source': <PublicationSource.AUTHOR_PUBLICATION_ENTRY: 'AUTHOR_PUBLICATION_ENTRY'>, 'bib': {'title': 'Review of Mario Mieli, Towards a Gay Communism: Elements of Homosexual Critique, trans. David Fernbach and Evan Calder Williams (London: Pluto, 2018 [1977])', 'pub_year': '2019', 'citation': 'Legal Form, 2019'}, 'filled': False, 'author_pub_id': 'kwbEUvYAAAAJ:eQOLeE2rZwMC', 'num_citations': 0}, {'container_type': 'Publication', 'source': <PublicationSource.AUTHOR_PUBLICATION_ENTRY: 'AUTHOR_PUBLICATION_ENTRY'>, 'bib': {'title': 'Contagion and the Public Body: A Re-Ordering of Private and Public Spheres in R v Gowdy', 'pub_year': '2018', 'citation': 'Windsor Rev. Legal & Soc. Issues 39, 127, 2018'}, 'filled': False, 'author_pub_id': 'kwbEUvYAAAAJ:9yKSN-GCB0IC', 'num_citations': 0}], 'public_access': {'available': 1, 'not_available': 2}}\n",
      "{'container_type': 'Author', 'filled': ['basics', 'indices', 'counts', 'coauthors', 'publications', 'public_access'], 'source': <AuthorSource.SEARCH_AUTHOR_SNIPPETS: 'SEARCH_AUTHOR_SNIPPETS'>, 'scholar_id': 'k9b1dAIAAAAJ', 'url_picture': 'https://scholar.google.com/citations?view_op=medium_photo&user=k9b1dAIAAAAJ', 'name': 'David M. Shaw', 'affiliation': 'North-West University––Potchefstroom, South Africa', 'email_domain': '@providencechurch.org.au', 'interests': ['Biblical Studies', 'New Testament', 'Social Identity', 'Narrative Transportation', 'Biblical Theology'], 'citedby': 9, 'homepage': 'https://hcommons.org/members/davidmshaw/', 'citedby5y': 9, 'hindex': 2, 'hindex5y': 2, 'i10index': 0, 'i10index5y': 0, 'cites_per_year': {2020: 1, 2021: 1, 2022: 4, 2023: 2, 2024: 1}, 'coauthors': [], 'publications': [{'container_type': 'Publication', 'source': <PublicationSource.AUTHOR_PUBLICATION_ENTRY: 'AUTHOR_PUBLICATION_ENTRY'>, 'bib': {'title': 'Restoring a Hemorrhaged Identity: The Identity and Impact of the Bleeding Woman in Luke 8: 40–56', 'pub_year': '2020', 'citation': 'Bulletin for Biblical Research 30 (1), 64–85, 2020'}, 'filled': False, 'author_pub_id': 'k9b1dAIAAAAJ:u5HHmVD_uO8C', 'num_citations': 3, 'citedby_url': 'https://scholar.google.com/scholar?oi=bibs&hl=en&cites=11171393601939175135', 'cites_id': ['11171393601939175135']}, {'container_type': 'Publication', 'source': <PublicationSource.AUTHOR_PUBLICATION_ENTRY: 'AUTHOR_PUBLICATION_ENTRY'>, 'bib': {'title': 'A People Called: Narrative Transportation and Missional Identity in 1 Peter', 'pub_year': '2017', 'citation': 'University of Exeter, 2017'}, 'filled': False, 'author_pub_id': 'k9b1dAIAAAAJ:qjMakFHDy7sC', 'num_citations': 3, 'citedby_url': 'https://scholar.google.com/scholar?oi=bibs&hl=en&cites=13499078315543055564', 'cites_id': ['13499078315543055564']}, {'container_type': 'Publication', 'source': <PublicationSource.AUTHOR_PUBLICATION_ENTRY: 'AUTHOR_PUBLICATION_ENTRY'>, 'bib': {'title': 'Called to Bless: Considering an Under-appreciated Aspect of “Doing Good” in 1 Peter 3:8–17', 'pub_year': '2020', 'citation': 'Biblical Theology Bulletin 50 (3), 161–173, 2020'}, 'filled': False, 'author_pub_id': 'k9b1dAIAAAAJ:u-x6o8ySG0sC', 'num_citations': 2, 'citedby_url': 'https://scholar.google.com/scholar?oi=bibs&hl=en&cites=16985329880093154388', 'cites_id': ['16985329880093154388']}, {'container_type': 'Publication', 'source': <PublicationSource.AUTHOR_PUBLICATION_ENTRY: 'AUTHOR_PUBLICATION_ENTRY'>, 'bib': {'title': 'Outsider Designations and Boundary Construction in the New Testament: Early Christian Communities and the Formation of Group Identity by Paul Trebilco (Book Review)', 'pub_year': '2018', 'citation': 'Journal of the Evangelical Theological Society 61 (4), 906–09, 2018'}, 'filled': False, 'author_pub_id': 'k9b1dAIAAAAJ:d1gkVwhDpl0C', 'num_citations': 1, 'citedby_url': 'https://scholar.google.com/scholar?oi=bibs&hl=en&cites=16846188770926954925', 'cites_id': ['16846188770926954925']}, {'container_type': 'Publication', 'source': <PublicationSource.AUTHOR_PUBLICATION_ENTRY: 'AUTHOR_PUBLICATION_ENTRY'>, 'bib': {'title': 'Petrine Theology / Petrine Studies by Douglas Kennard (Book Review)', 'pub_year': '2024', 'citation': 'Journal of the Evangelical Theological Society 67 (2), 403–06, 2024'}, 'filled': False, 'author_pub_id': 'k9b1dAIAAAAJ:Tyk-4Ss8FVUC', 'num_citations': 0}, {'container_type': 'Publication', 'source': <PublicationSource.AUTHOR_PUBLICATION_ENTRY: 'AUTHOR_PUBLICATION_ENTRY'>, 'bib': {'title': 'Narrative, Calling, and Missional Identity in 1 Peter: Between Promise and Inheritance', 'pub_year': '2023', 'citation': 'Brill, 2023'}, 'filled': False, 'author_pub_id': 'k9b1dAIAAAAJ:IjCSPb-OGe4C', 'num_citations': 0}, {'container_type': 'Publication', 'source': <PublicationSource.AUTHOR_PUBLICATION_ENTRY: 'AUTHOR_PUBLICATION_ENTRY'>, 'bib': {'title': 'Narrating a New Identity: The Role of Isaiah’s Suffering Servant in 1 Peter 2:18–25', 'pub_year': '2022', 'citation': 'The Impact of Jesus of Nazareth: Historical, Theological, and Pastoral …, 2022'}, 'filled': False, 'author_pub_id': 'k9b1dAIAAAAJ:2osOgNQ5qMEC', 'num_citations': 0}, {'container_type': 'Publication', 'source': <PublicationSource.AUTHOR_PUBLICATION_ENTRY: 'AUTHOR_PUBLICATION_ENTRY'>, 'bib': {'title': 'A Beginner’s Guide to New Testament Studies: Understanding Key Debates by Nijay Gupta (Book Review)', 'pub_year': '2021', 'citation': 'Review of Biblical Literature, 2021'}, 'filled': False, 'author_pub_id': 'k9b1dAIAAAAJ:Y0pCki6q_DkC', 'num_citations': 0}, {'container_type': 'Publication', 'source': <PublicationSource.AUTHOR_PUBLICATION_ENTRY: 'AUTHOR_PUBLICATION_ENTRY'>, 'bib': {'title': 'The Warning-Assurance Relationship in 1 Corinthians by Andrew Wilson (Book Review)', 'pub_year': '2018', 'citation': 'Themelios 43 (1), 121–22, 2018'}, 'filled': False, 'author_pub_id': 'k9b1dAIAAAAJ:9yKSN-GCB0IC', 'num_citations': 0}, {'container_type': 'Publication', 'source': <PublicationSource.AUTHOR_PUBLICATION_ENTRY: 'AUTHOR_PUBLICATION_ENTRY'>, 'bib': {'title': \"Called to Bless: Considering an Under-appreciated Aspect of 'Doing Good' in 1 Peter\", 'pub_year': '2014', 'citation': 'Presented to the Social World of the New Testament Seminar at the British …, 2014'}, 'filled': False, 'author_pub_id': 'k9b1dAIAAAAJ:UeHWp8X0CEIC', 'num_citations': 0}], 'public_access': {'available': 0, 'not_available': 0}}\n"
     ]
    }
   ],
   "source": [
    "from scholarly import scholarly\n",
    "\n",
    "# Search for the author by name\n",
    "search_query = scholarly.search_author(a1.__repr__())\n",
    "for au in search_query:\n",
    "    au_data = scholarly.fill(au)\n",
    "    print(au_data)"
   ]
  },
  {
   "cell_type": "code",
   "execution_count": 111,
   "metadata": {},
   "outputs": [],
   "source": [
    "def get_affiliations(author_scholar_ref: dict) -> set[Affiliation]:\n",
    "    if 'publications' in author_scholar_ref['filled']:\n",
    "        affs = set()\n",
    "        affs.add(Affiliation(author_scholar_ref['affiliation'], 2024))\n",
    "        for pub in author_scholar_ref['publications']:\n",
    "            pub_year = pub['pub_year'] if 'pub_year' in pub else 0\n",
    "            if 'affiliation' in pub:\n",
    "                aff = pub['affilition']\n",
    "                affs.add(Affiliation(aff, pub_year))\n",
    "        return affs\n",
    "    return set()"
   ]
  },
  {
   "cell_type": "code",
   "execution_count": 113,
   "metadata": {},
   "outputs": [],
   "source": [
    "from tqdm import tqdm"
   ]
  },
  {
   "cell_type": "code",
   "execution_count": 114,
   "metadata": {},
   "outputs": [
    {
     "name": "stderr",
     "output_type": "stream",
     "text": [
      "  0%|          | 1/3096 [00:18<16:17:21, 18.95s/it]\n"
     ]
    },
    {
     "ename": "KeyboardInterrupt",
     "evalue": "",
     "output_type": "error",
     "traceback": [
      "\u001b[1;31m---------------------------------------------------------------------------\u001b[0m",
      "\u001b[1;31mKeyboardInterrupt\u001b[0m                         Traceback (most recent call last)",
      "Cell \u001b[1;32mIn[114], line 5\u001b[0m\n\u001b[0;32m      3\u001b[0m search_query \u001b[38;5;241m=\u001b[39m scholarly\u001b[38;5;241m.\u001b[39msearch_author(au\u001b[38;5;241m.\u001b[39m\u001b[38;5;21m__repr__\u001b[39m())\n\u001b[0;32m      4\u001b[0m \u001b[38;5;28;01mfor\u001b[39;00m au_ref \u001b[38;5;129;01min\u001b[39;00m search_query:\n\u001b[1;32m----> 5\u001b[0m     au_data \u001b[38;5;241m=\u001b[39m \u001b[43mscholarly\u001b[49m\u001b[38;5;241;43m.\u001b[39;49m\u001b[43mfill\u001b[49m\u001b[43m(\u001b[49m\u001b[43mau_ref\u001b[49m\u001b[43m)\u001b[49m\n\u001b[0;32m      6\u001b[0m     affs \u001b[38;5;241m=\u001b[39m get_affiliations(au_data)\n\u001b[0;32m      7\u001b[0m     all_affiliations \u001b[38;5;241m=\u001b[39m all_affiliations\u001b[38;5;241m.\u001b[39munion(affs)\n",
      "File \u001b[1;32mc:\\Python311\\Lib\\site-packages\\scholarly\\_scholarly.py:233\u001b[0m, in \u001b[0;36m_Scholarly.fill\u001b[1;34m(self, object, sections, sortby, publication_limit)\u001b[0m\n\u001b[0;32m    231\u001b[0m \u001b[38;5;28;01mif\u001b[39;00m \u001b[38;5;28mobject\u001b[39m[\u001b[38;5;124m'\u001b[39m\u001b[38;5;124mcontainer_type\u001b[39m\u001b[38;5;124m'\u001b[39m] \u001b[38;5;241m==\u001b[39m \u001b[38;5;124m\"\u001b[39m\u001b[38;5;124mAuthor\u001b[39m\u001b[38;5;124m\"\u001b[39m:\n\u001b[0;32m    232\u001b[0m     author_parser \u001b[38;5;241m=\u001b[39m AuthorParser(\u001b[38;5;28mself\u001b[39m\u001b[38;5;241m.\u001b[39m__nav)\n\u001b[1;32m--> 233\u001b[0m     \u001b[38;5;28mobject\u001b[39m \u001b[38;5;241m=\u001b[39m \u001b[43mauthor_parser\u001b[49m\u001b[38;5;241;43m.\u001b[39;49m\u001b[43mfill\u001b[49m\u001b[43m(\u001b[49m\u001b[38;5;28;43mobject\u001b[39;49m\u001b[43m,\u001b[49m\u001b[43m \u001b[49m\u001b[43msections\u001b[49m\u001b[43m,\u001b[49m\u001b[43m \u001b[49m\u001b[43msortby\u001b[49m\u001b[43m,\u001b[49m\u001b[43m \u001b[49m\u001b[43mpublication_limit\u001b[49m\u001b[43m)\u001b[49m\n\u001b[0;32m    234\u001b[0m     \u001b[38;5;28;01mif\u001b[39;00m \u001b[38;5;28mobject\u001b[39m \u001b[38;5;129;01mis\u001b[39;00m \u001b[38;5;28;01mFalse\u001b[39;00m:\n\u001b[0;32m    235\u001b[0m         \u001b[38;5;28;01mraise\u001b[39;00m \u001b[38;5;167;01mValueError\u001b[39;00m(\u001b[38;5;124m\"\u001b[39m\u001b[38;5;124mIncorrect input\u001b[39m\u001b[38;5;124m\"\u001b[39m)\n",
      "File \u001b[1;32mc:\\Python311\\Lib\\site-packages\\scholarly\\author_parser.py:454\u001b[0m, in \u001b[0;36mAuthorParser.fill\u001b[1;34m(self, author, sections, sortby, publication_limit)\u001b[0m\n\u001b[0;32m    452\u001b[0m     \u001b[38;5;28;01mfor\u001b[39;00m i \u001b[38;5;129;01min\u001b[39;00m \u001b[38;5;28mself\u001b[39m\u001b[38;5;241m.\u001b[39m_sections:\n\u001b[0;32m    453\u001b[0m         \u001b[38;5;28;01mif\u001b[39;00m i \u001b[38;5;129;01mnot\u001b[39;00m \u001b[38;5;129;01min\u001b[39;00m author[\u001b[38;5;124m'\u001b[39m\u001b[38;5;124mfilled\u001b[39m\u001b[38;5;124m'\u001b[39m]:\n\u001b[1;32m--> 454\u001b[0m             (\u001b[38;5;28mgetattr\u001b[39m(\u001b[38;5;28mself\u001b[39m, \u001b[38;5;124mf\u001b[39m\u001b[38;5;124m'\u001b[39m\u001b[38;5;124m_fill_\u001b[39m\u001b[38;5;132;01m{\u001b[39;00mi\u001b[38;5;132;01m}\u001b[39;00m\u001b[38;5;124m'\u001b[39m)(soup, author) \u001b[38;5;28;01mif\u001b[39;00m i \u001b[38;5;241m!=\u001b[39m \u001b[38;5;124m'\u001b[39m\u001b[38;5;124mpublications\u001b[39m\u001b[38;5;124m'\u001b[39m \u001b[38;5;28;01melse\u001b[39;00m \u001b[38;5;28;43mgetattr\u001b[39;49m\u001b[43m(\u001b[49m\u001b[38;5;28;43mself\u001b[39;49m\u001b[43m,\u001b[49m\u001b[43m \u001b[49m\u001b[38;5;124;43mf\u001b[39;49m\u001b[38;5;124;43m'\u001b[39;49m\u001b[38;5;124;43m_fill_\u001b[39;49m\u001b[38;5;132;43;01m{\u001b[39;49;00m\u001b[43mi\u001b[49m\u001b[38;5;132;43;01m}\u001b[39;49;00m\u001b[38;5;124;43m'\u001b[39;49m\u001b[43m)\u001b[49m\u001b[43m(\u001b[49m\u001b[43msoup\u001b[49m\u001b[43m,\u001b[49m\u001b[43m \u001b[49m\u001b[43mauthor\u001b[49m\u001b[43m,\u001b[49m\u001b[43m \u001b[49m\u001b[43mpublication_limit\u001b[49m\u001b[43m,\u001b[49m\u001b[43m \u001b[49m\u001b[43msortby_str\u001b[49m\u001b[43m)\u001b[49m)\n\u001b[0;32m    455\u001b[0m             author[\u001b[38;5;124m'\u001b[39m\u001b[38;5;124mfilled\u001b[39m\u001b[38;5;124m'\u001b[39m]\u001b[38;5;241m.\u001b[39mappend(i)\n\u001b[0;32m    456\u001b[0m \u001b[38;5;28;01melse\u001b[39;00m:\n",
      "File \u001b[1;32mc:\\Python311\\Lib\\site-packages\\scholarly\\author_parser.py:195\u001b[0m, in \u001b[0;36mAuthorParser._fill_publications\u001b[1;34m(self, soup, author, publication_limit, sortby_str)\u001b[0m\n\u001b[0;32m    192\u001b[0m     pubstart \u001b[38;5;241m+\u001b[39m\u001b[38;5;241m=\u001b[39m _PAGESIZE\n\u001b[0;32m    193\u001b[0m     url \u001b[38;5;241m=\u001b[39m \u001b[38;5;124m'\u001b[39m\u001b[38;5;132;01m{0}\u001b[39;00m\u001b[38;5;124m&cstart=\u001b[39m\u001b[38;5;132;01m{1}\u001b[39;00m\u001b[38;5;124m&pagesize=\u001b[39m\u001b[38;5;132;01m{2}\u001b[39;00m\u001b[38;5;124m'\u001b[39m\u001b[38;5;241m.\u001b[39mformat(\n\u001b[0;32m    194\u001b[0m         url_citations, pubstart, _PAGESIZE)\n\u001b[1;32m--> 195\u001b[0m     soup \u001b[38;5;241m=\u001b[39m \u001b[38;5;28;43mself\u001b[39;49m\u001b[38;5;241;43m.\u001b[39;49m\u001b[43mnav\u001b[49m\u001b[38;5;241;43m.\u001b[39;49m\u001b[43m_get_soup\u001b[49m\u001b[43m(\u001b[49m\u001b[43murl\u001b[49m\u001b[43m)\u001b[49m\n\u001b[0;32m    196\u001b[0m \u001b[38;5;28;01melse\u001b[39;00m:\n\u001b[0;32m    197\u001b[0m     \u001b[38;5;28;01mbreak\u001b[39;00m\n",
      "File \u001b[1;32mc:\\Python311\\Lib\\site-packages\\scholarly\\_navigator.py:239\u001b[0m, in \u001b[0;36mNavigator._get_soup\u001b[1;34m(self, url)\u001b[0m\n\u001b[0;32m    237\u001b[0m \u001b[38;5;28;01mdef\u001b[39;00m \u001b[38;5;21m_get_soup\u001b[39m(\u001b[38;5;28mself\u001b[39m, url: \u001b[38;5;28mstr\u001b[39m) \u001b[38;5;241m-\u001b[39m\u001b[38;5;241m>\u001b[39m BeautifulSoup:\n\u001b[0;32m    238\u001b[0m \u001b[38;5;250m    \u001b[39m\u001b[38;5;124;03m\"\"\"Return the BeautifulSoup for a page on scholar.google.com\"\"\"\u001b[39;00m\n\u001b[1;32m--> 239\u001b[0m     html \u001b[38;5;241m=\u001b[39m \u001b[38;5;28;43mself\u001b[39;49m\u001b[38;5;241;43m.\u001b[39;49m\u001b[43m_get_page\u001b[49m\u001b[43m(\u001b[49m\u001b[38;5;124;43m'\u001b[39;49m\u001b[38;5;124;43mhttps://scholar.google.com\u001b[39;49m\u001b[38;5;132;43;01m{0}\u001b[39;49;00m\u001b[38;5;124;43m'\u001b[39;49m\u001b[38;5;241;43m.\u001b[39;49m\u001b[43mformat\u001b[49m\u001b[43m(\u001b[49m\u001b[43murl\u001b[49m\u001b[43m)\u001b[49m\u001b[43m)\u001b[49m\n\u001b[0;32m    240\u001b[0m     html \u001b[38;5;241m=\u001b[39m html\u001b[38;5;241m.\u001b[39mreplace(\u001b[38;5;124mu\u001b[39m\u001b[38;5;124m'\u001b[39m\u001b[38;5;130;01m\\xa0\u001b[39;00m\u001b[38;5;124m'\u001b[39m, \u001b[38;5;124mu\u001b[39m\u001b[38;5;124m'\u001b[39m\u001b[38;5;124m \u001b[39m\u001b[38;5;124m'\u001b[39m)\n\u001b[0;32m    241\u001b[0m     res \u001b[38;5;241m=\u001b[39m BeautifulSoup(html, \u001b[38;5;124m'\u001b[39m\u001b[38;5;124mhtml.parser\u001b[39m\u001b[38;5;124m'\u001b[39m)\n",
      "File \u001b[1;32mc:\\Python311\\Lib\\site-packages\\scholarly\\_navigator.py:113\u001b[0m, in \u001b[0;36mNavigator._get_page\u001b[1;34m(self, pagerequest, premium)\u001b[0m\n\u001b[0;32m    111\u001b[0m \u001b[38;5;28;01mtry\u001b[39;00m:\n\u001b[0;32m    112\u001b[0m     w \u001b[38;5;241m=\u001b[39m random\u001b[38;5;241m.\u001b[39muniform(\u001b[38;5;241m1\u001b[39m,\u001b[38;5;241m2\u001b[39m)\n\u001b[1;32m--> 113\u001b[0m     time\u001b[38;5;241m.\u001b[39msleep(w)\n\u001b[0;32m    114\u001b[0m     resp \u001b[38;5;241m=\u001b[39m session\u001b[38;5;241m.\u001b[39mget(pagerequest, timeout\u001b[38;5;241m=\u001b[39mtimeout)\n\u001b[0;32m    115\u001b[0m     \u001b[38;5;28;01mif\u001b[39;00m premium \u001b[38;5;129;01mis\u001b[39;00m \u001b[38;5;28;01mFalse\u001b[39;00m:  \u001b[38;5;66;03m# premium methods may contain sensitive information\u001b[39;00m\n",
      "\u001b[1;31mKeyboardInterrupt\u001b[0m: "
     ]
    }
   ],
   "source": [
    "all_affiliations = set()\n",
    "for au in tqdm(all_authors):\n",
    "    search_query = scholarly.search_author(au.__repr__())\n",
    "    for au_ref in search_query:\n",
    "        au_data = scholarly.fill(au_ref)\n",
    "        affs = get_affiliations(au_data)\n",
    "        all_affiliations = all_affiliations.union(affs)"
   ]
  },
  {
   "cell_type": "code",
   "execution_count": null,
   "metadata": {},
   "outputs": [],
   "source": [
    "all_unis = set()\n",
    "\n",
    "for aff in all_affiliations:\n",
    "    uni = aff.Uni\n",
    "    all_unis.append(uni)"
   ]
  },
  {
   "cell_type": "code",
   "execution_count": null,
   "metadata": {},
   "outputs": [],
   "source": []
  }
 ],
 "metadata": {
  "kernelspec": {
   "display_name": "Python 3",
   "language": "python",
   "name": "python3"
  },
  "language_info": {
   "codemirror_mode": {
    "name": "ipython",
    "version": 3
   },
   "file_extension": ".py",
   "mimetype": "text/x-python",
   "name": "python",
   "nbconvert_exporter": "python",
   "pygments_lexer": "ipython3",
   "version": "3.11.8"
  }
 },
 "nbformat": 4,
 "nbformat_minor": 2
}
