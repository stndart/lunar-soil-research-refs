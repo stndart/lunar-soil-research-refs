{
 "cells": [
  {
   "cell_type": "code",
   "execution_count": 48,
   "metadata": {},
   "outputs": [],
   "source": [
    "# Для сохранение промежуточных результатов\n",
    "import joblib\n",
    "# Для чтения текста из pdf\n",
    "from read_pdf import extract_lines_from_pdf\n",
    "# Для извлечения имён авторов и названий публикаций\n",
    "import dt\n",
    "\n",
    "from random import choice, sample\n",
    "from tqdm import tqdm\n",
    "from itertools import chain"
   ]
  },
  {
   "cell_type": "code",
   "execution_count": 66,
   "metadata": {},
   "outputs": [],
   "source": [
    "from importlib import reload\n",
    "dt = reload(dt)"
   ]
  },
  {
   "cell_type": "code",
   "execution_count": 4,
   "metadata": {},
   "outputs": [],
   "source": [
    "pdf_path = \"lunar_articles_list.pdf\"\n",
    "lines = extract_lines_from_pdf(pdf_path)"
   ]
  },
  {
   "cell_type": "code",
   "execution_count": 5,
   "metadata": {},
   "outputs": [
    {
     "name": "stdout",
     "output_type": "stream",
     "text": [
      "Processed 3819/3845 entries, 26 skipped\n"
     ]
    }
   ],
   "source": [
    "parsed, skipped = dt.parse_publications(lines)\n",
    "print(f'Processed {len(parsed)}/{len(lines)} entries, {len(skipped)} skipped')"
   ]
  },
  {
   "cell_type": "code",
   "execution_count": 6,
   "metadata": {},
   "outputs": [
    {
     "data": {
      "text/plain": [
       "['publications.pkl']"
      ]
     },
     "execution_count": 6,
     "metadata": {},
     "output_type": "execute_result"
    }
   ],
   "source": [
    "joblib.dump(parsed, 'publications.pkl')"
   ]
  },
  {
   "cell_type": "code",
   "execution_count": 7,
   "metadata": {},
   "outputs": [],
   "source": [
    "chosen_pubs = sample(parsed, 10)"
   ]
  },
  {
   "cell_type": "code",
   "execution_count": 8,
   "metadata": {},
   "outputs": [
    {
     "data": {
      "text/plain": [
       "[Publication(Title='Deposition  history  of  core  15008/7:    Some  implications  regarding  slope  processes', Year=PubYear(Year=1981, Letter='b'), journal=None, Authors=[Nagle J.S.], DOI=None),\n",
       " Publication(Title='Accretion, differentiation and late bombardment history of the Moon deduced from Re-Os isotopic systematics of Mare basalts (abs#2253)', Year=PubYear(Year=2008, Letter=''), journal=None, Authors=[Day J.M.D., Pearson D.G., Taylor L.A.], DOI=None),\n",
       " Publication(Title='The case for an Imbrium origin of the Apollo thorium-rich impact-melt breccias', Year=PubYear(Year=1998, Letter=''), journal=None, Authors=[Haskin L.A., Korotev R.L., Rockow K.M., Jolliff B.L.], DOI=None),\n",
       " Publication(Title='Lunar evolution: The first 600 million years', Year=PubYear(Year=1975, Letter=''), journal=None, Authors=[Husain L., Schaeffer O.A.], DOI=None),\n",
       " Publication(Title='Ortho and para-armalcolite samples in Apollo 17', Year=PubYear(Year=1973, Letter='c'), journal=None, Authors=[Haggerty S.E.], DOI=None),\n",
       " Publication(Title='U-Pb isotopes in dunite 72415 (abs)', Year=PubYear(Year=1992, Letter='c'), journal=None, Authors=[Premo W.R., Tatsumoto M.], DOI=None),\n",
       " Publication(Title='Formation and evolution of lunar regolith (abs#1346)', Year=PubYear(Year=2008, Letter=''), journal=None, Authors=[Taylor L.A.], DOI=None),\n",
       " Publication(Title='Oxygen isotope analyses of selected Apollo 11 materials', Year=PubYear(Year=1970, Letter=''), journal=None, Authors=[O’Neil J.R., Adams L.H.], DOI=None),\n",
       " Publication(Title='Lunar highlands composition: Apennine Front', Year=PubYear(Year=1973, Letter='b'), journal=None, Authors=[Taylor S.R., Gorton M.P., Muir P., Nance W., Rudowski R., Ware N.], DOI=None),\n",
       " Publication(Title='Petrology of the Western Highland Province: Ancient crust formation at the Apollo 14 site', Year=PubYear(Year=1999, Letter='b'), journal=None, Authors=[Shervais J.W., McGee J.J.], DOI=None)]"
      ]
     },
     "execution_count": 8,
     "metadata": {},
     "output_type": "execute_result"
    }
   ],
   "source": [
    "chosen_pubs"
   ]
  },
  {
   "cell_type": "code",
   "execution_count": 9,
   "metadata": {},
   "outputs": [
    {
     "name": "stderr",
     "output_type": "stream",
     "text": [
      "100%|██████████| 10/10 [00:15<00:00,  1.52s/it]\n"
     ]
    }
   ],
   "source": [
    "store = dt.AllAuthors()\n",
    "for pub in tqdm(chosen_pubs):\n",
    "    update_authors_storage(store, pub)"
   ]
  },
  {
   "cell_type": "code",
   "execution_count": 10,
   "metadata": {},
   "outputs": [
    {
     "data": {
      "text/plain": [
       "set()"
      ]
     },
     "execution_count": 10,
     "metadata": {},
     "output_type": "execute_result"
    }
   ],
   "source": [
    "store.storage"
   ]
  },
  {
   "cell_type": "code",
   "execution_count": 33,
   "metadata": {},
   "outputs": [
    {
     "data": {
      "text/plain": [
       "24"
      ]
     },
     "execution_count": 33,
     "metadata": {},
     "output_type": "execute_result"
    }
   ],
   "source": [
    "pubs_list = joblib.load('pubs_full.pkl')\n",
    "cleared = []\n",
    "for au in pubs_list:\n",
    "    if au is None:\n",
    "        continue\n",
    "    if len(au) == 0:\n",
    "        continue\n",
    "    cleared.append(au)\n",
    "pubs_list = list(chain(*cleared))\n",
    "len(pubs_list)"
   ]
  },
  {
   "cell_type": "code",
   "execution_count": 76,
   "metadata": {},
   "outputs": [],
   "source": [
    "from authors_meta import parse_crossref as pc\n",
    "pc = reload(pc)"
   ]
  },
  {
   "cell_type": "code",
   "execution_count": 77,
   "metadata": {},
   "outputs": [],
   "source": [
    "pubs = []\n",
    "for p in pubs_list:\n",
    "    pubs.append(pc.ref_to_pub(p))"
   ]
  },
  {
   "cell_type": "code",
   "execution_count": 87,
   "metadata": {},
   "outputs": [
    {
     "name": "stdout",
     "output_type": "stream",
     "text": [
      "61\n"
     ]
    }
   ],
   "source": [
    "store = dt.AllAuthors()\n",
    "for p in pubs:\n",
    "    for au in p.Authors:\n",
    "        store.add(au)\n",
    "print(len(store.storage))"
   ]
  },
  {
   "cell_type": "code",
   "execution_count": 84,
   "metadata": {},
   "outputs": [
    {
     "data": {
      "text/plain": [
       "{'Argonne National Laboratory, Argonne, Illinois 60439',\n",
       " 'Department of Earth and Space Sciences, State University of New York, Stony Brook 11790'}"
      ]
     },
     "execution_count": 84,
     "metadata": {},
     "output_type": "execute_result"
    }
   ],
   "source": [
    "affs = set()\n",
    "for au in store.storage:\n",
    "    for aff in au.Affiliations:\n",
    "        affs.add(aff)\n",
    "affs"
   ]
  },
  {
   "cell_type": "code",
   "execution_count": 88,
   "metadata": {},
   "outputs": [
    {
     "name": "stdout",
     "output_type": "stream",
     "text": [
      "57\n"
     ]
    }
   ],
   "source": [
    "counter = 0\n",
    "for au in store.storage:\n",
    "    if au.Affiliations == []:\n",
    "        counter += 1\n",
    "print(counter)"
   ]
  },
  {
   "cell_type": "code",
   "execution_count": 91,
   "metadata": {},
   "outputs": [
    {
     "name": "stdout",
     "output_type": "stream",
     "text": [
      "sci-hub.ru/10.1086/627837\n",
      "sci-hub.ru/10.1111/j.1945-5100.1999.tb01747.x\n",
      "sci-hub.ru/10.1016/0012-821x(72)90165-3\n",
      "sci-hub.ru/10.1016/0012-821x(70)90141-x\n",
      "sci-hub.ru/10.1016/0012-821x(72)90003-9\n",
      "sci-hub.ru/10.1016/j.gca.2009.03.039\n",
      "sci-hub.ru/10.1038/nature10328\n",
      "sci-hub.ru/10.1016/0012-821x(70)90045-2\n",
      "sci-hub.ru/10.1016/0016-7037(72)90087-7\n",
      "sci-hub.ru/10.1016/0012-821x(74)90131-9\n",
      "sci-hub.ru/10.1016/0016-7037(73)90178-6\n",
      "sci-hub.ru/10.1111/j.1945-5100.1974.tb00074.x\n",
      "sci-hub.ru/10.1093/petrology/15.3.419\n",
      "sci-hub.ru/10.1126/science.183.4130.1214\n",
      "sci-hub.ru/10.1029/jb090is01p00095\n",
      "sci-hub.ru/10.1016/s0016-7037(98)00134-3\n",
      "sci-hub.ru/10.1016/0012-821x(73)90076-9\n",
      "sci-hub.ru/10.1016/0012-821x(73)90098-8\n",
      "sci-hub.ru/10.1126/science.169.3948.866\n",
      "sci-hub.ru/10.1029/jb076i023p05770\n",
      "sci-hub.ru/10.1126/science.173.4003.1235\n",
      "sci-hub.ru/10.1130/0016-7606(1972)83[2357:aambag]2.0.co;2\n",
      "sci-hub.ru/10.1016/j.gca.2010.12.018\n",
      "sci-hub.ru/10.1016/0012-821x(73)90080-0\n"
     ]
    }
   ],
   "source": [
    "for p in pubs:\n",
    "    # print('doi.org/' + p.DOI)\n",
    "    print('sci-hub.ru/' + p.DOI)"
   ]
  }
 ],
 "metadata": {
  "kernelspec": {
   "display_name": "Python 3",
   "language": "python",
   "name": "python3"
  },
  "language_info": {
   "codemirror_mode": {
    "name": "ipython",
    "version": 3
   },
   "file_extension": ".py",
   "mimetype": "text/x-python",
   "name": "python",
   "nbconvert_exporter": "python",
   "pygments_lexer": "ipython3",
   "version": "3.11.8"
  }
 },
 "nbformat": 4,
 "nbformat_minor": 2
}
