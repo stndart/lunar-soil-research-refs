{
 "cells": [
  {
   "cell_type": "code",
   "execution_count": 1,
   "metadata": {},
   "outputs": [],
   "source": [
    "# Для сохранение промежуточных результатов\n",
    "import joblib\n",
    "# Для чтения текста из pdf\n",
    "from read_pdf import extract_lines_from_pdf\n",
    "# Для извлечения имён авторов и названий публикаций\n",
    "import dt\n",
    "\n",
    "from random import choice, sample\n",
    "from tqdm import tqdm"
   ]
  },
  {
   "cell_type": "code",
   "execution_count": 2,
   "metadata": {},
   "outputs": [],
   "source": [
    "import importlib\n",
    "dt = importlib.reload(dt)"
   ]
  },
  {
   "cell_type": "code",
   "execution_count": 3,
   "metadata": {},
   "outputs": [],
   "source": [
    "from authors_meta.parse_crossref import update_authors_storage"
   ]
  },
  {
   "cell_type": "code",
   "execution_count": null,
   "metadata": {},
   "outputs": [],
   "source": [
    "pdf_path = \"lunar_articles_list.pdf\"\n",
    "lines = extract_lines_from_pdf(pdf_path)"
   ]
  },
  {
   "cell_type": "code",
   "execution_count": null,
   "metadata": {},
   "outputs": [
    {
     "name": "stdout",
     "output_type": "stream",
     "text": [
      "Processed 3819/3845 entries, 26 skipped\n"
     ]
    }
   ],
   "source": [
    "parsed, skipped = dt.parse_publications(lines)\n",
    "print(f'Processed {len(parsed)}/{len(lines)} entries, {len(skipped)} skipped')"
   ]
  },
  {
   "cell_type": "code",
   "execution_count": null,
   "metadata": {},
   "outputs": [],
   "source": [
    "chosen_pubs = sample(parsed, 1)"
   ]
  },
  {
   "cell_type": "code",
   "execution_count": null,
   "metadata": {},
   "outputs": [
    {
     "data": {
      "text/plain": [
       "[Publication(Title='An experimental study of the thermal history of fragment-laden \"basalt\" 77115', Year=PubYear(Year=1980, Letter=''), journal=None, Authors=[Thornber C.R., Huebner J.S.], DOI=None),\n",
       " Publication(Title='Description, Classification and Inventory of Apollo 17 Rake Samples from Station 6', Year=PubYear(Year=1974, Letter=''), journal=None, Authors=[Phinney W.C., Simonds C.H., Warner J.], DOI=None),\n",
       " Publication(Title='Dust on the Moon', Year=PubYear(Year=1966, Letter=''), journal=None, Authors=[Urey H.], DOI=None),\n",
       " Publication(Title='Subsolidus reequilibration, grain growth, and compositional changes of native FeNi metal in lunar rocks', Year=PubYear(Year=1976, Letter=''), journal=None, Authors=[Taylor L.A., Misra K.C., Walker B.M.], DOI=None),\n",
       " Publication(Title='The duration of volcanism in Mare Serenitatis', Year=PubYear(Year=1976, Letter=''), journal=None, Authors=[Schaeffer G.A., Husain L., Schaeffer O.A.], DOI=None),\n",
       " Publication(Title='Petrology of disaggregated products of regolith breccia 10068 (abs)', Year=PubYear(Year=1999, Letter=''), journal=None, Authors=[Basu A., Wentworth S.J., McKay D.S.], DOI=None),\n",
       " Publication(Title=\"Volatile content of lunar volcanic glasses and the presence of water in the Moon's interior\", Year=PubYear(Year=2008, Letter=''), journal=None, Authors=[Saal A.E., Hauri E.H., Lo Cascio M., VanOrman J.A., Rutherford M.C., Cooper R.F.], DOI=None),\n",
       " Publication(Title='A highly depleted Moon or a non-magma ocean origin for the lunar crust?   Earth Planet', Year=PubYear(Year=2007, Letter=''), journal=None, Authors=[Boyet Maud, Calson R.W.], DOI=None),\n",
       " Publication(Title='Procrustean science: Indigenous siderophiles in the Lunar Highlands, according to Delano and Ringwood', Year=PubYear(Year=1979, Letter=''), journal=None, Authors=[Anders E.], DOI=None),\n",
       " Publication(Title='Very low-Ti basalts', Year=PubYear(Year=1977, Letter='a'), journal=None, Authors=[Taylor G.J., Keil K., Warner R.D.], DOI=None)]"
      ]
     },
     "execution_count": 7,
     "metadata": {},
     "output_type": "execute_result"
    }
   ],
   "source": [
    "chosen_pubs"
   ]
  },
  {
   "cell_type": "code",
   "execution_count": null,
   "metadata": {},
   "outputs": [
    {
     "name": "stderr",
     "output_type": "stream",
     "text": [
      " 40%|████      | 4/10 [00:13<00:20,  3.43s/it]"
     ]
    }
   ],
   "source": [
    "store = dt.AllAuthors()\n",
    "for pub in tqdm(chosen_pubs):\n",
    "    update_authors_storage(store, pub)"
   ]
  },
  {
   "cell_type": "code",
   "execution_count": null,
   "metadata": {},
   "outputs": [],
   "source": [
    "import authors_meta.parse_crossref as cf\n",
    "cf = importlib.reload(cf)"
   ]
  },
  {
   "cell_type": "code",
   "execution_count": null,
   "metadata": {},
   "outputs": [
    {
     "data": {
      "text/plain": [
       "Publication(Title='Gas analysis of the lunar surface', Year=PubYear(Year=1970, Letter=''), journal=None, Authors=[Funkhauser J.G., Schaeffer O.A., Bogard D.D., Zahringer J.], DOI=None)"
      ]
     },
     "execution_count": 11,
     "metadata": {},
     "output_type": "execute_result"
    }
   ],
   "source": [
    "pub"
   ]
  },
  {
   "cell_type": "code",
   "execution_count": null,
   "metadata": {},
   "outputs": [
    {
     "data": {
      "text/plain": [
       "1"
      ]
     },
     "execution_count": 14,
     "metadata": {},
     "output_type": "execute_result"
    }
   ],
   "source": [
    "cf_list = cf.get_doi_pub(pub)\n",
    "len(cf_list)"
   ]
  },
  {
   "cell_type": "code",
   "execution_count": null,
   "metadata": {},
   "outputs": [
    {
     "name": "stdout",
     "output_type": "stream",
     "text": [
      "{'given': 'J. G.', 'family': 'Funkhouser', 'sequence': 'first', 'affiliation': [{'name': 'State University of New York, Stony Book'}]}\n",
      "{'given': 'O. A.', 'family': 'Schaeffer', 'sequence': 'additional', 'affiliation': [{'name': 'State University of New York, Stony Book'}]}\n",
      "{'given': 'D. D.', 'family': 'Bogard', 'sequence': 'additional', 'affiliation': [{'name': 'NASA Manned Spacecraft Center, Houston, Texas'}]}\n",
      "{'given': 'J.', 'family': 'Zähringer', 'sequence': 'additional', 'affiliation': [{'name': 'Max-Planck-Institut für Kernphysik Heidelberg, Germany'}]}\n"
     ]
    }
   ],
   "source": [
    "for au in cf_list[0]['author']:\n",
    "    print(au)"
   ]
  }
 ],
 "metadata": {
  "kernelspec": {
   "display_name": "Python 3",
   "language": "python",
   "name": "python3"
  },
  "language_info": {
   "codemirror_mode": {
    "name": "ipython",
    "version": 3
   },
   "file_extension": ".py",
   "mimetype": "text/x-python",
   "name": "python",
   "nbconvert_exporter": "python",
   "pygments_lexer": "ipython3",
   "version": "3.11.1"
  }
 },
 "nbformat": 4,
 "nbformat_minor": 2
}
