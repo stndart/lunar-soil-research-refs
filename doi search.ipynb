{
 "cells": [
  {
   "cell_type": "code",
   "execution_count": 1,
   "metadata": {},
   "outputs": [],
   "source": [
    "# Для сохранение промежуточных результатов\n",
    "import joblib\n",
    "# Для чтения текста из pdf\n",
    "from read_pdf import extract_lines_from_pdf\n",
    "# Для извлечения имён авторов и названий публикаций\n",
    "import dt\n",
    "\n",
    "from random import choice, sample\n",
    "from tqdm import tqdm"
   ]
  },
  {
   "cell_type": "code",
   "execution_count": 2,
   "metadata": {},
   "outputs": [],
   "source": [
    "import importlib\n",
    "dt = importlib.reload(dt)"
   ]
  },
  {
   "cell_type": "code",
   "execution_count": 3,
   "metadata": {},
   "outputs": [],
   "source": [
    "from authors_meta.parse_crossref import update_authors_storage"
   ]
  },
  {
   "cell_type": "code",
   "execution_count": 4,
   "metadata": {},
   "outputs": [],
   "source": [
    "pdf_path = \"lunar_articles_list.pdf\"\n",
    "lines = extract_lines_from_pdf(pdf_path)"
   ]
  },
  {
   "cell_type": "code",
   "execution_count": 5,
   "metadata": {},
   "outputs": [
    {
     "name": "stdout",
     "output_type": "stream",
     "text": [
      "Processed 3819/3845 entries, 26 skipped\n"
     ]
    }
   ],
   "source": [
    "parsed, skipped = dt.parse_publications(lines)\n",
    "print(f'Processed {len(parsed)}/{len(lines)} entries, {len(skipped)} skipped')"
   ]
  },
  {
   "cell_type": "code",
   "execution_count": 11,
   "metadata": {},
   "outputs": [
    {
     "data": {
      "text/plain": [
       "['publications.pkl']"
      ]
     },
     "execution_count": 11,
     "metadata": {},
     "output_type": "execute_result"
    }
   ],
   "source": [
    "joblib.dump(parsed, 'publications.pkl')"
   ]
  },
  {
   "cell_type": "code",
   "execution_count": 6,
   "metadata": {},
   "outputs": [],
   "source": [
    "chosen_pubs = sample(parsed, 10)"
   ]
  },
  {
   "cell_type": "code",
   "execution_count": 7,
   "metadata": {},
   "outputs": [
    {
     "data": {
      "text/plain": [
       "[Publication(Title='Lunar tridymite and cristobalite', Year=PubYear(Year=1972, Letter='a'), journal=None, Authors=[Mason B.], DOI=None),\n",
       " Publication(Title='Are Apollo zircons witness to a lunar cataclysm? (abs#1639)  Lunar Planet', Year=PubYear(Year=2012, Letter='b'), journal=None, Authors=[Crow C.A., McKeegan K.D., Gilmour J.D., Crowther S.A., Taylor D.J.], DOI=None),\n",
       " Publication(Title='Semimicro X-ray fluorescence analysis of lunar samples', Year=PubYear(Year=1970, Letter='b'), journal=None, Authors=[Rose H.J., Cuttitta F., Dwornik E.J., Carron M.K., Christian R.P., Lindsay J.R., Ligon D.T., Larson R.R.], DOI=None),\n",
       " Publication(Title='Rare earths and other elements in two size fractions of soils from the Taurus-Littrow valley floor (abs)', Year=PubYear(Year=1976, Letter='a'), journal=None, Authors=[Korotev R.L.], DOI=None),\n",
       " Publication(Title='Pb isotopes in anorthositic breccias 67075 and 62237: A search for primitive lunar lead (abs)', Year=PubYear(Year=1988, Letter=''), journal=None, Authors=[Premo W.R., Tatsumoto M., Wang J-W.], DOI=None),\n",
       " Publication(Title='Total nitrogen contents of Apollo 15, 16 and 17 lunar rocks and breccias (abs)', Year=PubYear(Year=1976, Letter=''), journal=None, Authors=[Moore C.B., Lewis C.F.], DOI=None),\n",
       " Publication(Title='The granulite suite: Impact melts and metamorphic breccias of the early lunar crust (abs)', Year=PubYear(Year=1993, Letter='a'), journal=None, Authors=[Cushing J.A., Taylor G.J., Norman M.D., Keil K.], DOI=None),\n",
       " Publication(Title='Handbook of Lunar Soils', Year=PubYear(Year=1983, Letter=''), journal=None, Authors=[Morris R.V., Score R., Dardano C., Heiken G.], DOI=None),\n",
       " Publication(Title='Heat-producing elements in the lunar mantle: Insights from ion microporbe analyses of lunar pyroclastic glasses', Year=PubYear(Year=2006, Letter=''), journal=None, Authors=[Hagerty J., Shearer C.K., Vaniman D.T.], DOI=None),\n",
       " Publication(Title='On the origin of lunar soil 12033', Year=PubYear(Year=1971, Letter=''), journal=None, Authors=[Baedecker P.A., Cuttita F., Rose H.J., Schaudy R., Wasson J.T.], DOI=None)]"
      ]
     },
     "execution_count": 7,
     "metadata": {},
     "output_type": "execute_result"
    }
   ],
   "source": [
    "chosen_pubs"
   ]
  },
  {
   "cell_type": "code",
   "execution_count": 8,
   "metadata": {},
   "outputs": [
    {
     "name": "stderr",
     "output_type": "stream",
     "text": [
      "100%|██████████| 10/10 [00:16<00:00,  1.64s/it]\n"
     ]
    }
   ],
   "source": [
    "store = dt.AllAuthors()\n",
    "for pub in tqdm(chosen_pubs):\n",
    "    update_authors_storage(store, pub)"
   ]
  },
  {
   "cell_type": "code",
   "execution_count": 10,
   "metadata": {},
   "outputs": [
    {
     "data": {
      "text/plain": [
       "set()"
      ]
     },
     "execution_count": 10,
     "metadata": {},
     "output_type": "execute_result"
    }
   ],
   "source": [
    "store.storage"
   ]
  },
  {
   "cell_type": "code",
   "execution_count": null,
   "metadata": {},
   "outputs": [],
   "source": []
  }
 ],
 "metadata": {
  "kernelspec": {
   "display_name": "Python 3",
   "language": "python",
   "name": "python3"
  },
  "language_info": {
   "codemirror_mode": {
    "name": "ipython",
    "version": 3
   },
   "file_extension": ".py",
   "mimetype": "text/x-python",
   "name": "python",
   "nbconvert_exporter": "python",
   "pygments_lexer": "ipython3",
   "version": "3.11.8"
  }
 },
 "nbformat": 4,
 "nbformat_minor": 2
}
